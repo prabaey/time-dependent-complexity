{
 "cells": [
  {
   "cell_type": "code",
   "execution_count": 2,
   "id": "f8573520",
   "metadata": {},
   "outputs": [],
   "source": [
    "from lib import activity_counts\n",
    "%load_ext autoreload \n",
    "%autoreload 1\n",
    "%aimport lib.activity_counts"
   ]
  },
  {
   "cell_type": "markdown",
   "id": "d33a0824",
   "metadata": {},
   "source": [
    "## Test activity pipeline"
   ]
  },
  {
   "cell_type": "code",
   "execution_count": 6,
   "id": "55018f21",
   "metadata": {},
   "outputs": [],
   "source": [
    "import pandas as pd"
   ]
  },
  {
   "cell_type": "code",
   "execution_count": 3,
   "id": "5def0365",
   "metadata": {},
   "outputs": [],
   "source": [
    "cpm = activity_counts.actigraph_pipeline(\"patient1_test.csv\")"
   ]
  },
  {
   "cell_type": "code",
   "execution_count": 4,
   "id": "7ae4df86",
   "metadata": {},
   "outputs": [
    {
     "data": {
      "text/html": [
       "<div>\n",
       "<style scoped>\n",
       "    .dataframe tbody tr th:only-of-type {\n",
       "        vertical-align: middle;\n",
       "    }\n",
       "\n",
       "    .dataframe tbody tr th {\n",
       "        vertical-align: top;\n",
       "    }\n",
       "\n",
       "    .dataframe thead th {\n",
       "        text-align: right;\n",
       "    }\n",
       "</style>\n",
       "<table border=\"1\" class=\"dataframe\">\n",
       "  <thead>\n",
       "    <tr style=\"text-align: right;\">\n",
       "      <th></th>\n",
       "      <th>counts</th>\n",
       "    </tr>\n",
       "    <tr>\n",
       "      <th>Time</th>\n",
       "      <th></th>\n",
       "    </tr>\n",
       "  </thead>\n",
       "  <tbody>\n",
       "    <tr>\n",
       "      <th>2021-03-16 20:00:00</th>\n",
       "      <td>47.267814</td>\n",
       "    </tr>\n",
       "    <tr>\n",
       "      <th>2021-03-16 20:01:00</th>\n",
       "      <td>62.365239</td>\n",
       "    </tr>\n",
       "    <tr>\n",
       "      <th>2021-03-16 20:02:00</th>\n",
       "      <td>28.549592</td>\n",
       "    </tr>\n",
       "    <tr>\n",
       "      <th>2021-03-16 20:03:00</th>\n",
       "      <td>61.734361</td>\n",
       "    </tr>\n",
       "    <tr>\n",
       "      <th>2021-03-16 20:04:00</th>\n",
       "      <td>65.136725</td>\n",
       "    </tr>\n",
       "    <tr>\n",
       "      <th>...</th>\n",
       "      <td>...</td>\n",
       "    </tr>\n",
       "    <tr>\n",
       "      <th>2021-04-07 19:56:00</th>\n",
       "      <td>0.461936</td>\n",
       "    </tr>\n",
       "    <tr>\n",
       "      <th>2021-04-07 19:57:00</th>\n",
       "      <td>0.573929</td>\n",
       "    </tr>\n",
       "    <tr>\n",
       "      <th>2021-04-07 19:58:00</th>\n",
       "      <td>0.574283</td>\n",
       "    </tr>\n",
       "    <tr>\n",
       "      <th>2021-04-07 19:59:00</th>\n",
       "      <td>0.698791</td>\n",
       "    </tr>\n",
       "    <tr>\n",
       "      <th>2021-04-07 20:00:00</th>\n",
       "      <td>0.167611</td>\n",
       "    </tr>\n",
       "  </tbody>\n",
       "</table>\n",
       "<p>31681 rows × 1 columns</p>\n",
       "</div>"
      ],
      "text/plain": [
       "                        counts\n",
       "Time                          \n",
       "2021-03-16 20:00:00  47.267814\n",
       "2021-03-16 20:01:00  62.365239\n",
       "2021-03-16 20:02:00  28.549592\n",
       "2021-03-16 20:03:00  61.734361\n",
       "2021-03-16 20:04:00  65.136725\n",
       "...                        ...\n",
       "2021-04-07 19:56:00   0.461936\n",
       "2021-04-07 19:57:00   0.573929\n",
       "2021-04-07 19:58:00   0.574283\n",
       "2021-04-07 19:59:00   0.698791\n",
       "2021-04-07 20:00:00   0.167611\n",
       "\n",
       "[31681 rows x 1 columns]"
      ]
     },
     "execution_count": 4,
     "metadata": {},
     "output_type": "execute_result"
    }
   ],
   "source": [
    "cpm"
   ]
  },
  {
   "cell_type": "code",
   "execution_count": 7,
   "id": "b3cea379",
   "metadata": {},
   "outputs": [],
   "source": [
    "path = \"C:\\\\Users\\\\Paloma\\\\Work\\\\mt2021_palomarabaey\\\\data\\\\trial3\\\\cpm_df_new\\\\\"\n",
    "counts = pd.read_pickle(path+\"patient1\"+\".p\")"
   ]
  },
  {
   "cell_type": "code",
   "execution_count": 8,
   "id": "498c81d8",
   "metadata": {},
   "outputs": [
    {
     "data": {
      "text/html": [
       "<div>\n",
       "<style scoped>\n",
       "    .dataframe tbody tr th:only-of-type {\n",
       "        vertical-align: middle;\n",
       "    }\n",
       "\n",
       "    .dataframe tbody tr th {\n",
       "        vertical-align: top;\n",
       "    }\n",
       "\n",
       "    .dataframe thead th {\n",
       "        text-align: right;\n",
       "    }\n",
       "</style>\n",
       "<table border=\"1\" class=\"dataframe\">\n",
       "  <thead>\n",
       "    <tr style=\"text-align: right;\">\n",
       "      <th></th>\n",
       "      <th>X</th>\n",
       "      <th>Y</th>\n",
       "      <th>Z</th>\n",
       "      <th>R</th>\n",
       "      <th>counts</th>\n",
       "    </tr>\n",
       "    <tr>\n",
       "      <th>Time</th>\n",
       "      <th></th>\n",
       "      <th></th>\n",
       "      <th></th>\n",
       "      <th></th>\n",
       "      <th></th>\n",
       "    </tr>\n",
       "  </thead>\n",
       "  <tbody>\n",
       "    <tr>\n",
       "      <th>2021-03-16 20:00:00</th>\n",
       "      <td>-27.308897</td>\n",
       "      <td>-33.504597</td>\n",
       "      <td>22.967743</td>\n",
       "      <td>0.738560</td>\n",
       "      <td>47.267814</td>\n",
       "    </tr>\n",
       "    <tr>\n",
       "      <th>2021-03-16 20:01:00</th>\n",
       "      <td>-23.238230</td>\n",
       "      <td>-37.567455</td>\n",
       "      <td>26.759546</td>\n",
       "      <td>0.974457</td>\n",
       "      <td>62.365239</td>\n",
       "    </tr>\n",
       "    <tr>\n",
       "      <th>2021-03-16 20:02:00</th>\n",
       "      <td>-20.074619</td>\n",
       "      <td>-50.275600</td>\n",
       "      <td>21.034405</td>\n",
       "      <td>0.446087</td>\n",
       "      <td>28.549592</td>\n",
       "    </tr>\n",
       "    <tr>\n",
       "      <th>2021-03-16 20:03:00</th>\n",
       "      <td>-20.867586</td>\n",
       "      <td>-22.017622</td>\n",
       "      <td>38.446453</td>\n",
       "      <td>0.964599</td>\n",
       "      <td>61.734361</td>\n",
       "    </tr>\n",
       "    <tr>\n",
       "      <th>2021-03-16 20:04:00</th>\n",
       "      <td>-13.805405</td>\n",
       "      <td>-20.671581</td>\n",
       "      <td>43.832977</td>\n",
       "      <td>1.017761</td>\n",
       "      <td>65.136725</td>\n",
       "    </tr>\n",
       "    <tr>\n",
       "      <th>...</th>\n",
       "      <td>...</td>\n",
       "      <td>...</td>\n",
       "      <td>...</td>\n",
       "      <td>...</td>\n",
       "      <td>...</td>\n",
       "    </tr>\n",
       "    <tr>\n",
       "      <th>2021-04-06 08:31:00</th>\n",
       "      <td>-33.763302</td>\n",
       "      <td>9.867334</td>\n",
       "      <td>-15.014571</td>\n",
       "      <td>2.435284</td>\n",
       "      <td>155.858171</td>\n",
       "    </tr>\n",
       "    <tr>\n",
       "      <th>2021-04-06 08:32:00</th>\n",
       "      <td>-16.936525</td>\n",
       "      <td>49.354687</td>\n",
       "      <td>-5.621673</td>\n",
       "      <td>3.763078</td>\n",
       "      <td>240.836983</td>\n",
       "    </tr>\n",
       "    <tr>\n",
       "      <th>2021-04-06 08:33:00</th>\n",
       "      <td>-22.365993</td>\n",
       "      <td>34.500488</td>\n",
       "      <td>-5.905607</td>\n",
       "      <td>3.484433</td>\n",
       "      <td>223.003683</td>\n",
       "    </tr>\n",
       "    <tr>\n",
       "      <th>2021-04-06 08:34:00</th>\n",
       "      <td>-47.748997</td>\n",
       "      <td>-17.274418</td>\n",
       "      <td>-36.146839</td>\n",
       "      <td>5.556483</td>\n",
       "      <td>355.614888</td>\n",
       "    </tr>\n",
       "    <tr>\n",
       "      <th>2021-04-06 08:35:00</th>\n",
       "      <td>-39.603046</td>\n",
       "      <td>6.842752</td>\n",
       "      <td>-17.868210</td>\n",
       "      <td>3.596471</td>\n",
       "      <td>230.174125</td>\n",
       "    </tr>\n",
       "  </tbody>\n",
       "</table>\n",
       "<p>29556 rows × 5 columns</p>\n",
       "</div>"
      ],
      "text/plain": [
       "                             X          Y          Z         R      counts\n",
       "Time                                                                      \n",
       "2021-03-16 20:00:00 -27.308897 -33.504597  22.967743  0.738560   47.267814\n",
       "2021-03-16 20:01:00 -23.238230 -37.567455  26.759546  0.974457   62.365239\n",
       "2021-03-16 20:02:00 -20.074619 -50.275600  21.034405  0.446087   28.549592\n",
       "2021-03-16 20:03:00 -20.867586 -22.017622  38.446453  0.964599   61.734361\n",
       "2021-03-16 20:04:00 -13.805405 -20.671581  43.832977  1.017761   65.136725\n",
       "...                        ...        ...        ...       ...         ...\n",
       "2021-04-06 08:31:00 -33.763302   9.867334 -15.014571  2.435284  155.858171\n",
       "2021-04-06 08:32:00 -16.936525  49.354687  -5.621673  3.763078  240.836983\n",
       "2021-04-06 08:33:00 -22.365993  34.500488  -5.905607  3.484433  223.003683\n",
       "2021-04-06 08:34:00 -47.748997 -17.274418 -36.146839  5.556483  355.614888\n",
       "2021-04-06 08:35:00 -39.603046   6.842752 -17.868210  3.596471  230.174125\n",
       "\n",
       "[29556 rows x 5 columns]"
      ]
     },
     "execution_count": 8,
     "metadata": {},
     "output_type": "execute_result"
    }
   ],
   "source": [
    "counts"
   ]
  },
  {
   "cell_type": "markdown",
   "id": "8b289249",
   "metadata": {},
   "source": [
    "Activity pipeline works."
   ]
  },
  {
   "cell_type": "markdown",
   "id": "c0627353",
   "metadata": {},
   "source": [
    "## Test complexity module"
   ]
  },
  {
   "cell_type": "code",
   "execution_count": 10,
   "id": "0b8ed800",
   "metadata": {},
   "outputs": [],
   "source": [
    "from lib import complexity\n",
    "%aimport lib.complexity"
   ]
  },
  {
   "cell_type": "code",
   "execution_count": 12,
   "id": "3b41ee1f",
   "metadata": {},
   "outputs": [],
   "source": [
    "import numpy as np"
   ]
  },
  {
   "cell_type": "code",
   "execution_count": 40,
   "id": "e94a7bf3",
   "metadata": {},
   "outputs": [
    {
     "data": {
      "image/png": "[encoded data removed]",
      "text/plain": [
       "<Figure size 432x288 with 1 Axes>"
      ]
     },
     "metadata": {
      "needs_background": "light"
     },
     "output_type": "display_data"
    }
   ],
   "source": [
    "D = complexity.allometric_aggregation(np.array(counts[\"counts\"]), 3*60)"
   ]
  },
  {
   "cell_type": "code",
   "execution_count": 41,
   "id": "9dd480c2",
   "metadata": {},
   "outputs": [
    {
     "data": {
      "text/plain": [
       "1.152512135347062"
      ]
     },
     "execution_count": 41,
     "metadata": {},
     "output_type": "execute_result"
    }
   ],
   "source": [
    "D"
   ]
  },
  {
   "cell_type": "code",
   "execution_count": 48,
   "id": "e3d6f156",
   "metadata": {},
   "outputs": [
    {
     "data": {
      "image/png": "[encoded data removed]",
      "text/plain": [
       "<Figure size 432x288 with 1 Axes>"
      ]
     },
     "metadata": {
      "needs_background": "light"
     },
     "output_type": "display_data"
    }
   ],
   "source": [
    "D, scales = complexity.adapted_allometric_aggregation(np.array(counts[\"counts\"]), 1, 9*60)"
   ]
  },
  {
   "cell_type": "code",
   "execution_count": 49,
   "id": "97a00c69",
   "metadata": {},
   "outputs": [
    {
     "name": "stdout",
     "output_type": "stream",
     "text": [
      "\t1.139\t1.287\t1.404\n"
     ]
    }
   ],
   "source": [
    "print(\"\\t%.3f\\t%.3f\\t%.3f\" %(D[18], D[36], D[46]))"
   ]
  },
  {
   "cell_type": "markdown",
   "id": "e6310681",
   "metadata": {},
   "source": [
    "These are the same values that we found in the table, so the method gives the same result. "
   ]
  },
  {
   "cell_type": "markdown",
   "id": "edc3a23d",
   "metadata": {},
   "source": [
    "## Prepare data files"
   ]
  },
  {
   "cell_type": "code",
   "execution_count": 50,
   "id": "79a36645",
   "metadata": {},
   "outputs": [],
   "source": [
    "path = \"C:\\\\Users\\\\Paloma\\\\Work\\\\mt2021_palomarabaey\\\\data\\\\trial3\\\\cpm_df_new\\\\\"\n",
    "activity = {}\n",
    "for i in [1, 2, 3, 4, 5, 6, 8]: \n",
    "    name = \"patient\"+str(i)\n",
    "    counts = pd.read_pickle(path+name+\".p\")\n",
    "    activity[name] = counts"
   ]
  },
  {
   "cell_type": "code",
   "execution_count": 53,
   "id": "aa4e57fc",
   "metadata": {},
   "outputs": [],
   "source": [
    "activity[\"patient1\"][[\"counts\"]].to_csv('patient1.csv')"
   ]
  },
  {
   "cell_type": "code",
   "execution_count": 56,
   "id": "67928ea8",
   "metadata": {},
   "outputs": [],
   "source": [
    "for i in [1, 2, 3, 4, 5, 6]: \n",
    "    name = \"patient\"+str(i)\n",
    "    csv_name = \"activity\"+str(i)\n",
    "    activity[name][[\"counts\"]].to_csv(csv_name+\".csv\")"
   ]
  },
  {
   "cell_type": "code",
   "execution_count": 57,
   "id": "d7d7c5f2",
   "metadata": {},
   "outputs": [],
   "source": [
    "activity[\"patient8\"][[\"counts\"]].to_csv(\"activity7.csv\")"
   ]
  },
  {
   "cell_type": "code",
   "execution_count": 90,
   "id": "a2cdde5d",
   "metadata": {},
   "outputs": [],
   "source": [
    "path = \"C:\\\\Users\\\\Paloma\\\\Work\\\\mt2021_palomarabaey\\\\data\\\\trial3\\\\surveys\\\\\"\n",
    "survey = {}\n",
    "for i in [1, 2, 3, 4, 5, 6, 8]: \n",
    "    name = \"patient\"+str(i)\n",
    "    file = pd.read_pickle(path+name+\"_features\")\n",
    "    survey[name] = file"
   ]
  },
  {
   "cell_type": "code",
   "execution_count": 94,
   "id": "9471958a",
   "metadata": {},
   "outputs": [],
   "source": [
    "survey[\"patient1\"] = survey[\"patient1\"].drop(columns=['activity', 'complexity', 'complexity 3h', 'worry', 'worry_NI1', 'worry_NI2', 'sleep_quality2'])"
   ]
  },
  {
   "cell_type": "code",
   "execution_count": 96,
   "id": "8db22606",
   "metadata": {},
   "outputs": [],
   "source": [
    "survey[\"patient2\"] = survey[\"patient2\"].drop(columns=['activity', 'complexity 30m', 'complexity 3h', 'worry', 'worry_NI'])"
   ]
  },
  {
   "cell_type": "code",
   "execution_count": 98,
   "id": "c6b6b855",
   "metadata": {},
   "outputs": [],
   "source": [
    "survey[\"patient3\"] = survey[\"patient3\"].drop(columns=['activity', 'complexity', 'complexity 3h', 'worry'])"
   ]
  },
  {
   "cell_type": "code",
   "execution_count": 99,
   "id": "39371740",
   "metadata": {},
   "outputs": [],
   "source": [
    "survey[\"patient4\"] = survey[\"patient4\"].drop(columns=['activity', 'complexity', 'complexity 3h'])"
   ]
  },
  {
   "cell_type": "code",
   "execution_count": 101,
   "id": "379ae3d0",
   "metadata": {},
   "outputs": [],
   "source": [
    "survey[\"patient5\"] = survey[\"patient5\"].drop(columns=['activity', 'complexity 30m', 'complexity 3h', 'worry', 'worry_NI'])"
   ]
  },
  {
   "cell_type": "code",
   "execution_count": 103,
   "id": "d2929f0f",
   "metadata": {},
   "outputs": [],
   "source": [
    "survey[\"patient6\"] = survey[\"patient6\"].drop(columns=['activity', 'complexity 30m', 'complexity 3h', 'worry', 'worry_NI'])"
   ]
  },
  {
   "cell_type": "code",
   "execution_count": 105,
   "id": "25298625",
   "metadata": {},
   "outputs": [],
   "source": [
    "survey[\"patient8\"] = survey[\"patient8\"].drop(columns=['activity', 'complexity', 'complexity 3h'])"
   ]
  },
  {
   "cell_type": "code",
   "execution_count": 107,
   "id": "3534a20c",
   "metadata": {},
   "outputs": [],
   "source": [
    "for i in [1, 2, 3, 4, 5, 6]: \n",
    "    name = \"patient\"+str(i)\n",
    "    csv_name = \"survey\"+str(i)+\".csv\"\n",
    "    survey[name].to_csv(csv_name, index=False)"
   ]
  },
  {
   "cell_type": "code",
   "execution_count": 108,
   "id": "809f24b5",
   "metadata": {},
   "outputs": [],
   "source": [
    "survey[\"patient8\"].to_csv(\"survey7.csv\", index=False)"
   ]
  },
  {
   "cell_type": "code",
   "execution_count": null,
   "id": "6e42e2c9",
   "metadata": {},
   "outputs": [],
   "source": []
  }
 ],
 "metadata": {
  "kernelspec": {
   "display_name": "Python 3",
   "language": "python",
   "name": "python3"
  },
  "language_info": {
   "codemirror_mode": {
    "name": "ipython",
    "version": 3
   },
   "file_extension": ".py",
   "mimetype": "text/x-python",
   "name": "python",
   "nbconvert_exporter": "python",
   "pygments_lexer": "ipython3",
   "version": "3.8.8"
  }
 },
 "nbformat": 4,
 "nbformat_minor": 5
}
